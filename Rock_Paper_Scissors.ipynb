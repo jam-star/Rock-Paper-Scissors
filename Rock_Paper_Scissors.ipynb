{
  "nbformat": 4,
  "nbformat_minor": 0,
  "metadata": {
    "colab": {
      "name": "Rock Paper Scissors",
      "provenance": [],
      "collapsed_sections": []
    },
    "kernelspec": {
      "name": "python3",
      "display_name": "Python 3"
    },
    "language_info": {
      "name": "python"
    }
  },
  "cells": [
    {
      "cell_type": "code",
      "execution_count": null,
      "metadata": {
        "id": "Jg5aFBTx1ybp"
      },
      "outputs": [],
      "source": [
        "import random"
      ]
    },
    {
      "cell_type": "code",
      "source": [
        "set=['r','p','s']"
      ],
      "metadata": {
        "id": "IEMtr-XwX9s4"
      },
      "execution_count": null,
      "outputs": []
    },
    {
      "cell_type": "code",
      "source": [
        "#function to check each combination and update score\n",
        "def point():\n",
        "  global pc\n",
        "  global pu\n",
        "  t=mc+mu\n",
        " \n",
        "  if(t=='rp'):\n",
        "    pu+=2\n",
        "  elif(t=='rs'):\n",
        "    pc+=2\n",
        "  elif(t=='pr'):\n",
        "    pc+=2\n",
        "  elif(t=='ps'):\n",
        "    pu+=2\n",
        "  elif(t=='sr'):\n",
        "    pu+=2\n",
        "  elif(t=='sp'):\n",
        "    pc+=2"
      ],
      "metadata": {
        "id": "pDcTngJqX0h5"
      },
      "execution_count": null,
      "outputs": []
    },
    {
      "cell_type": "code",
      "source": [
        "#final declaration of winner based on score\n",
        "def win():\n",
        "  if(pu>pc):\n",
        "    print('Congratulations! You win!')\n",
        "  else:\n",
        "    print('You lose. Better luck next time!')"
      ],
      "metadata": {
        "id": "JIa8SBd9hwEZ"
      },
      "execution_count": null,
      "outputs": []
    },
    {
      "cell_type": "code",
      "source": [
        "print('Welcome to a game of Rock, Paper, Scissors!')\n",
        "print('Each winning move gets you 2 points. First to reach 10 points wins!\\n')\n",
        "pc=0\n",
        "#Points of computer\n",
        "pu=0\n",
        "#Points of user\n",
        "\n",
        "#loop runs until either score values are 10\n",
        "while(pu<10  and pc<10):\n",
        "  a=random.randint(0,2)\n",
        "  mc=set[a]\n",
        "  #Move of computer determined randomly\n",
        "  mu=input(\"Enter 'r', 'p' or 's'\")\n",
        "  #Move of user\n",
        "  if(mu in set):\n",
        "    print('Your move - '+mu)\n",
        "    print(\"System's move - \"+mc)\n",
        "    point()\n",
        "    print(\"Your score - \"+str(pu))\n",
        "    print(\"System's score - \"+str(pc))\n",
        "    print()\n",
        "  else:\n",
        "    print('Invalid Choice')\n",
        "win()\n",
        "\n"
      ],
      "metadata": {
        "colab": {
          "base_uri": "https://localhost:8080/"
        },
        "id": "LLtFCaY1Xpap",
        "outputId": "c4ef89d0-4d95-4e69-9c5f-4cf2317b1e2f"
      },
      "execution_count": null,
      "outputs": [
        {
          "output_type": "stream",
          "name": "stdout",
          "text": [
            "Welcome to a game of Rock, Paper, Scissors!\n",
            "Each winning move gets you 2 points. First to reach 10 points wins!\n",
            "\n",
            "Enter 'r', 'p' or 's'r\n",
            "Your move - r\n",
            "System's move - p\n",
            "Your score - 0\n",
            "System's score - 2\n",
            "\n",
            "Enter 'r', 'p' or 's'r\n",
            "Your move - r\n",
            "System's move - p\n",
            "Your score - 0\n",
            "System's score - 4\n",
            "\n",
            "Enter 'r', 'p' or 's'r\n",
            "Your move - r\n",
            "System's move - r\n",
            "Your score - 0\n",
            "System's score - 4\n",
            "\n",
            "Enter 'r', 'p' or 's'r\n",
            "Your move - r\n",
            "System's move - s\n",
            "Your score - 2\n",
            "System's score - 4\n",
            "\n",
            "Enter 'r', 'p' or 's'r\n",
            "Your move - r\n",
            "System's move - p\n",
            "Your score - 2\n",
            "System's score - 6\n",
            "\n",
            "Enter 'r', 'p' or 's'r\n",
            "Your move - r\n",
            "System's move - p\n",
            "Your score - 2\n",
            "System's score - 8\n",
            "\n",
            "Enter 'r', 'p' or 's'r\n",
            "Your move - r\n",
            "System's move - s\n",
            "Your score - 4\n",
            "System's score - 8\n",
            "\n",
            "Enter 'r', 'p' or 's'r\n",
            "Your move - r\n",
            "System's move - s\n",
            "Your score - 6\n",
            "System's score - 8\n",
            "\n",
            "Enter 'r', 'p' or 's'r\n",
            "Your move - r\n",
            "System's move - r\n",
            "Your score - 6\n",
            "System's score - 8\n",
            "\n",
            "Enter 'r', 'p' or 's'r\n",
            "Your move - r\n",
            "System's move - p\n",
            "Your score - 6\n",
            "System's score - 10\n",
            "\n",
            "You lose. Better luck next time!\n"
          ]
        }
      ]
    }
  ]
}